{
 "cells": [
  {
   "cell_type": "code",
   "execution_count": 1,
   "id": "7c121c08",
   "metadata": {},
   "outputs": [
    {
     "name": "stdout",
     "output_type": "stream",
     "text": [
      "Name: Viraj Bansal\n"
     ]
    }
   ],
   "source": [
    "print(\"Name: Viraj Bansal\")"
   ]
  },
  {
   "cell_type": "markdown",
   "id": "b481a3de",
   "metadata": {},
   "source": [
    "<font size=\"10\"> This is my first Jupyter Notebook "
   ]
  }
 ],
 "metadata": {
  "kernelspec": {
   "display_name": "base",
   "language": "python",
   "name": "python3"
  },
  "language_info": {
   "codemirror_mode": {
    "name": "ipython",
    "version": 3
   },
   "file_extension": ".py",
   "mimetype": "text/x-python",
   "name": "python",
   "nbconvert_exporter": "python",
   "pygments_lexer": "ipython3",
   "version": "3.13.5"
  }
 },
 "nbformat": 4,
 "nbformat_minor": 5
}
